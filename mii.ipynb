{
 "cells": [
  {
   "cell_type": "code",
   "execution_count": 1,
   "id": "c4684a4a",
   "metadata": {
    "scrolled": true
   },
   "outputs": [],
   "source": [
    "# !pip install transformers deepspeed-mii --upgrade"
   ]
  },
  {
   "cell_type": "code",
   "execution_count": 1,
   "id": "be34daa7",
   "metadata": {},
   "outputs": [],
   "source": [
    "import nest_asyncio\n",
    "nest_asyncio.apply()"
   ]
  },
  {
   "cell_type": "code",
   "execution_count": 15,
   "id": "fa559605",
   "metadata": {
    "scrolled": true
   },
   "outputs": [
    {
     "name": "stdout",
     "output_type": "stream",
     "text": [
      "[2022-11-16 19:23:28,384] [INFO] [deployment.py:87:deploy] ************* MII is using DeepSpeed Optimizations to accelerate your model *************\n",
      "[2022-11-16 19:23:28,387] [INFO] [server_client.py:219:_initialize_service] MII using multi-gpu deepspeed launcher:\n",
      " ------------------------------------------------------------\n",
      " task-name .................... text-generation \n",
      " model ........................ bigscience/bloom-560m \n",
      " model-path ................... /tmp/mii_models \n",
      " port ......................... 50050 \n",
      " provider ..................... hugging-face \n",
      " ------------------------------------------------------------\n",
      "huggingface/tokenizers: The current process just got forked, after parallelism has already been used. Disabling parallelism to avoid deadlocks...\n",
      "To disable this warning, you can either:\n",
      "\t- Avoid using `tokenizers` before the fork if possible\n",
      "\t- Explicitly set the environment variable TOKENIZERS_PARALLELISM=(true | false)\n",
      "[2022-11-16 19:23:29,610] [WARNING] [runner.py:179:fetch_hostfile] Unable to find hostfile, will proceed with training with local resources only.\n",
      "[2022-11-16 19:23:29,661] [INFO] [runner.py:508:main] cmd = /home/ec2-user/anaconda3/envs/pytorch_p38/bin/python -u -m deepspeed.launcher.launch --world_info=eyJsb2NhbGhvc3QiOiBbMF19 --master_addr=127.0.0.1 --master_port=29500 --no_python --no_local_rank /home/ec2-user/anaconda3/envs/pytorch_p38/bin/python -m mii.launch.multi_gpu_server --task-name text-generation --model bigscience/bloom-560m --model-path /tmp/mii_models --port 50050 --ds-optimize --provider hugging-face --config eyJ0ZW5zb3JfcGFyYWxsZWwiOiAxLCAicG9ydF9udW1iZXIiOiA1MDA1MCwgImR0eXBlIjogImZwMTYiLCAiZW5hYmxlX2N1ZGFfZ3JhcGgiOiBmYWxzZSwgImNoZWNrcG9pbnRfZGljdCI6IG51bGwsICJkZXBsb3lfcmFuayI6IFswXSwgInRvcmNoX2Rpc3RfcG9ydCI6IDI5NTAwLCAiaGZfYXV0aF90b2tlbiI6IG51bGwsICJyZXBsYWNlX3dpdGhfa2VybmVsX2luamVjdCI6IHRydWUsICJwcm9maWxlX21vZGVsX3RpbWUiOiBmYWxzZSwgInNraXBfbW9kZWxfY2hlY2siOiBmYWxzZX0=\n",
      "[2022-11-16 19:23:30,855] [INFO] [launch.py:142:main] WORLD INFO DICT: {'localhost': [0]}\n",
      "[2022-11-16 19:23:30,855] [INFO] [launch.py:148:main] nnodes=1, num_local_procs=1, node_rank=0\n",
      "[2022-11-16 19:23:30,855] [INFO] [launch.py:161:main] global_rank_mapping=defaultdict(<class 'list'>, {'localhost': [0]})\n",
      "[2022-11-16 19:23:30,855] [INFO] [launch.py:162:main] dist_world_size=1\n",
      "[2022-11-16 19:23:30,855] [INFO] [launch.py:164:main] Setting CUDA_VISIBLE_DEVICES=0\n",
      "[2022-11-16 19:23:33,409] [INFO] [server_client.py:117:_wait_until_server_is_live] waiting for server to start...\n",
      "[2022-11-16 19:23:38,414] [INFO] [server_client.py:117:_wait_until_server_is_live] waiting for server to start...\n",
      "[2022-11-16 19:23:43,419] [INFO] [server_client.py:117:_wait_until_server_is_live] waiting for server to start...\n",
      "> --------- MII Settings: ds_optimize=True, replace_with_kernel_inject=True, enable_cuda_graph=False \n",
      "[2022-11-16 19:23:43,756] [INFO] [logging.py:68:log_dist] [Rank -1] DeepSpeed info: version=0.7.5, git-hash=unknown, git-branch=unknown\n",
      "[2022-11-16 19:23:43,756] [INFO] [logging.py:68:log_dist] [Rank -1] quantize_bits = 8 mlp_extra_grouping = False, quantize_groups = 1\n",
      "Using /home/ec2-user/.cache/torch_extensions/py38_cu111 as PyTorch extensions root...\n",
      "Detected CUDA files, patching ldflags\n",
      "Emitting ninja build file /home/ec2-user/.cache/torch_extensions/py38_cu111/transformer_inference/build.ninja...\n",
      "Building extension module transformer_inference...\n",
      "Allowing ninja to set a default number of workers... (overridable by setting the environment variable MAX_JOBS=N)\n",
      "ninja: no work to do.\n",
      "Loading extension module transformer_inference...\n",
      "Time to load transformer_inference op: 0.2914237976074219 seconds\n",
      "[2022-11-16 19:23:44,734] [INFO] [logging.py:68:log_dist] [Rank -1] DeepSpeed-Inference config: {'layer_id': 0, 'hidden_size': 1024, 'intermediate_size': 4096, 'heads': 16, 'num_hidden_layers': -1, 'fp16': True, 'pre_layer_norm': True, 'local_rank': -1, 'stochastic_mode': False, 'epsilon': 1e-05, 'mp_size': 1, 'q_int8': False, 'scale_attention': True, 'triangular_masking': True, 'local_attention': False, 'window_size': 1, 'rotary_dim': -1, 'rotate_half': False, 'rotate_every_two': True, 'return_tuple': True, 'mlp_after_attn': True, 'mlp_act_func_type': <ActivationFuncType.GELU: 1>, 'specialized_mode': False, 'training_mp_size': 1, 'bigscience_bloom': True, 'max_out_tokens': 1024, 'scale_attn_by_inverse_layer_idx': False}\n",
      "[2022-11-16 19:23:48,422] [INFO] [server_client.py:117:_wait_until_server_is_live] waiting for server to start...\n",
      "[2022-11-16 19:23:53,426] [INFO] [server_client.py:117:_wait_until_server_is_live] waiting for server to start...\n",
      "[2022-11-16 19:23:53,427] [INFO] [server_client.py:118:_wait_until_server_is_live] server has started on 50050\n"
     ]
    }
   ],
   "source": [
    "import mii\n",
    "mii_configs = {\"tensor_parallel\": 1, \"dtype\": \"fp16\"}\n",
    "mii.deploy(task=\"text-generation\",\n",
    "           model=\"bigscience/bloom-560m\",\n",
    "           deployment_name=\"bloom560m_deployment\",\n",
    "           mii_config=mii_configs)"
   ]
  },
  {
   "cell_type": "code",
   "execution_count": 16,
   "id": "a6c1dfa0",
   "metadata": {},
   "outputs": [],
   "source": [
    "generator = mii.mii_query_handle(\"bloom-560m-mii\")"
   ]
  },
  {
   "cell_type": "code",
   "execution_count": 17,
   "id": "ccfc1f74",
   "metadata": {},
   "outputs": [
    {
     "name": "stdout",
     "output_type": "stream",
     "text": [
      "------------------------------------------------------\n",
      "Free memory : 10.848145 (GigaBytes)  \n",
      "Total memory: 14.560913 (GigaBytes)  \n",
      "Requested memory: 0.093750 (GigaBytes) \n",
      "Setting maximum total tokens (input + output) to 1024 \n",
      "------------------------------------------------------\n",
      "response: \"DeepSpeed is a new feature in the game. The game is now able to use the new speed to increase the distance between the player and the target. The game\"\n",
      "time_taken: 0.965925932\n",
      "model_time_taken: -1\n",
      "\n"
     ]
    }
   ],
   "source": [
    "# generator = mii.mii_query_handle(\"bloom560m_deployment\")\n",
    "result = generator.query({\"query\": \"DeepSpeed is\"}, do_sample=False, max_new_tokens=30)\n",
    "print(result)"
   ]
  },
  {
   "cell_type": "code",
   "execution_count": 18,
   "id": "013e063a",
   "metadata": {},
   "outputs": [],
   "source": [
    "from transformers import AutoTokenizer\n",
    "tokenizer = AutoTokenizer.from_pretrained(\"bigscience/bloom-560m\")"
   ]
  },
  {
   "cell_type": "code",
   "execution_count": 19,
   "id": "5ae5d93d",
   "metadata": {},
   "outputs": [
    {
     "data": {
      "text/plain": [
       "11"
      ]
     },
     "execution_count": 19,
     "metadata": {},
     "output_type": "execute_result"
    }
   ],
   "source": [
    "start_text = \"Testing BLOOM-3B with DeepSpeed MII\"\n",
    "tokens_start_text = len(tokenizer(start_text, return_tensors=\"pt\").input_ids[0])\n",
    "tokens_start_text"
   ]
  },
  {
   "cell_type": "code",
   "execution_count": 20,
   "id": "909ee381",
   "metadata": {},
   "outputs": [],
   "source": [
    "import time\n",
    "\n",
    "new_tokens = 500\n",
    "gen_length = new_tokens + tokens_start_text\n",
    "t0 = time.time()\n",
    "result = generator.query({\"query\": start_text}, min_length=gen_length, max_length=gen_length)\n",
    "t1 = time.time()"
   ]
  },
  {
   "cell_type": "code",
   "execution_count": 21,
   "id": "94f5e5fa",
   "metadata": {},
   "outputs": [
    {
     "data": {
      "text/plain": [
       "response: \"Testing BLOOM-3B with DeepSpeed MII and the results are shown in Fig. 3. The results show that the BLOOM-3B with DeepSpeed MII can achieve a higher accuracy than the BLOOM-3B without DeepSpeed MII. The accuracy of the BLOOM-3B with DeepSpeed MII is higher than that of the BLOOM-3B without DeepSpeed MII. The accuracy of the BLOOM-3B with DeepSpeed MII is higher than that of the BLOOM-3B without DeepSpeed MII. The accuracy of the BLOOM-3B with DeepSpeed MII is higher than that of the BLOOM-3B without DeepSpeed MII. The accuracy of the BLOOM-3B with DeepSpeed MII is higher than that of the BLOOM-3B without DeepSpeed MII. The accuracy of the BLOOM-3B with DeepSpeed MII is higher than that of the BLOOM-3B without DeepSpeed MII. The accuracy of the BLOOM-3B with DeepSpeed MII is higher than that of the BLOOM-3B without DeepSpeed MII. The accuracy of the BLOOM-3B with DeepSpeed MII is higher than that of the BLOOM-3B without DeepSpeed MII. The accuracy of the BLOOM-3B with DeepSpeed MII is higher than that of the BLOOM-3B without DeepSpeed MII. The accuracy of the BLOOM-3B with DeepSpeed MII is higher than that of the BLOOM-3B without DeepSpeed MII. The accuracy of the BLOOM-3B with DeepSpeed MII is higher than that of the BLOOM-3B without DeepSpeed MII. The accuracy of the BLOOM-3B with DeepSpeed MII is higher than that of the BLOOM-3B without DeepSpeed MII. The accuracy of the BLOOM-3B with DeepSpeed MII is higher than that of the BLOOM-3B without DeepSpeed MII. The accuracy of the BLOOM-3B with DeepSpeed MII is higher than that of the BLOOM-3B without DeepSpeed MII. The accuracy of the BLOOM-3B with DeepSpeed MII is higher than that of the BLOOM-3B without DeepSpeed MII. The accuracy of the BLOOM-3B with DeepSpeed MII is higher than that of the BLOOM\"\n",
       "time_taken: 6.8323431\n",
       "model_time_taken: -1"
      ]
     },
     "execution_count": 21,
     "metadata": {},
     "output_type": "execute_result"
    }
   ],
   "source": [
    "result"
   ]
  },
  {
   "cell_type": "code",
   "execution_count": 22,
   "id": "02098915",
   "metadata": {},
   "outputs": [],
   "source": [
    "import re\n",
    "\n",
    "text=str(result)\n",
    "pattern='(\")(.*)(\")'\n",
    "\n",
    "g=re.search(pattern,text)\n",
    "gen_text = g.group(2)\n",
    "tokens_gen_text = len(tokenizer(gen_text, return_tensors=\"pt\").input_ids[0])"
   ]
  },
  {
   "cell_type": "code",
   "execution_count": 23,
   "id": "a3f5663d",
   "metadata": {},
   "outputs": [
    {
     "data": {
      "text/plain": [
       "'Testing BLOOM-3B with DeepSpeed MII and the results are shown in Fig. 3. The results show that the BLOOM-3B with DeepSpeed MII can achieve a higher accuracy than the BLOOM-3B without DeepSpeed MII. The accuracy of the BLOOM-3B with DeepSpeed MII is higher than that of the BLOOM-3B without DeepSpeed MII. The accuracy of the BLOOM-3B with DeepSpeed MII is higher than that of the BLOOM-3B without DeepSpeed MII. The accuracy of the BLOOM-3B with DeepSpeed MII is higher than that of the BLOOM-3B without DeepSpeed MII. The accuracy of the BLOOM-3B with DeepSpeed MII is higher than that of the BLOOM-3B without DeepSpeed MII. The accuracy of the BLOOM-3B with DeepSpeed MII is higher than that of the BLOOM-3B without DeepSpeed MII. The accuracy of the BLOOM-3B with DeepSpeed MII is higher than that of the BLOOM-3B without DeepSpeed MII. The accuracy of the BLOOM-3B with DeepSpeed MII is higher than that of the BLOOM-3B without DeepSpeed MII. The accuracy of the BLOOM-3B with DeepSpeed MII is higher than that of the BLOOM-3B without DeepSpeed MII. The accuracy of the BLOOM-3B with DeepSpeed MII is higher than that of the BLOOM-3B without DeepSpeed MII. The accuracy of the BLOOM-3B with DeepSpeed MII is higher than that of the BLOOM-3B without DeepSpeed MII. The accuracy of the BLOOM-3B with DeepSpeed MII is higher than that of the BLOOM-3B without DeepSpeed MII. The accuracy of the BLOOM-3B with DeepSpeed MII is higher than that of the BLOOM-3B without DeepSpeed MII. The accuracy of the BLOOM-3B with DeepSpeed MII is higher than that of the BLOOM-3B without DeepSpeed MII. The accuracy of the BLOOM-3B with DeepSpeed MII is higher than that of the BLOOM-3B without DeepSpeed MII. The accuracy of the BLOOM-3B with DeepSpeed MII is higher than that of the BLOOM'"
      ]
     },
     "execution_count": 23,
     "metadata": {},
     "output_type": "execute_result"
    }
   ],
   "source": [
    "gen_text"
   ]
  },
  {
   "cell_type": "code",
   "execution_count": 24,
   "id": "7422c35e",
   "metadata": {},
   "outputs": [
    {
     "name": "stdout",
     "output_type": "stream",
     "text": [
      "Tokens generated: 500; Time: 6.8 seconds; Tokens per second: 73.2; Latency: 14 ms\n"
     ]
    }
   ],
   "source": [
    "total_new_tokens_generated = tokens_gen_text - tokens_start_text\n",
    "throughput = (total_new_tokens_generated) / (t1 - t0)\n",
    "print(f\"Tokens generated: {total_new_tokens_generated}; Time: {t1 - t0:.1f} seconds; Tokens per second: {throughput:.1f}; Latency: {1000 / throughput:.0f} ms\")"
   ]
  },
  {
   "cell_type": "code",
   "execution_count": 14,
   "id": "9bb9cf4f",
   "metadata": {},
   "outputs": [
    {
     "name": "stdout",
     "output_type": "stream",
     "text": [
      "[2022-11-16 19:23:07,242] [INFO] [terminate.py:8:terminate] Terminating server for bloom-560m-mii\n",
      "[2022-11-16 19:23:08,055] [INFO] [launch.py:318:sigkill_handler] Killing subprocess 4589\n",
      "[2022-11-16 19:23:08,056] [ERROR] [launch.py:324:sigkill_handler] ['/home/ec2-user/anaconda3/envs/pytorch_p38/bin/python', '-m', 'mii.launch.multi_gpu_server', '--task-name', 'text-generation', '--model', 'bigscience/bloom-560m', '--model-path', '/tmp/mii_models', '--port', '50050', '--ds-optimize', '--provider', 'hugging-face', '--config', 'eyJ0ZW5zb3JfcGFyYWxsZWwiOiAxLCAicG9ydF9udW1iZXIiOiA1MDA1MCwgImR0eXBlIjogImZwMzIiLCAiZW5hYmxlX2N1ZGFfZ3JhcGgiOiBmYWxzZSwgImNoZWNrcG9pbnRfZGljdCI6IG51bGwsICJkZXBsb3lfcmFuayI6IFswXSwgInRvcmNoX2Rpc3RfcG9ydCI6IDI5NTAwLCAiaGZfYXV0aF90b2tlbiI6IG51bGwsICJyZXBsYWNlX3dpdGhfa2VybmVsX2luamVjdCI6IHRydWUsICJwcm9maWxlX21vZGVsX3RpbWUiOiBmYWxzZSwgInNraXBfbW9kZWxfY2hlY2siOiBmYWxzZX0='] exits with return code = -15\n"
     ]
    }
   ],
   "source": [
    "mii.terminate(\"bloom-560m-mii\")"
   ]
  },
  {
   "cell_type": "code",
   "execution_count": null,
   "id": "58640d41",
   "metadata": {},
   "outputs": [],
   "source": []
  }
 ],
 "metadata": {
  "kernelspec": {
   "display_name": "conda_pytorch_p38",
   "language": "python",
   "name": "conda_pytorch_p38"
  },
  "language_info": {
   "codemirror_mode": {
    "name": "ipython",
    "version": 3
   },
   "file_extension": ".py",
   "mimetype": "text/x-python",
   "name": "python",
   "nbconvert_exporter": "python",
   "pygments_lexer": "ipython3",
   "version": "3.8.12"
  }
 },
 "nbformat": 4,
 "nbformat_minor": 5
}

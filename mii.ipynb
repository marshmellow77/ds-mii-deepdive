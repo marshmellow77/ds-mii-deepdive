{
 "cells": [
  {
   "cell_type": "code",
   "execution_count": 1,
   "id": "2535ec07",
   "metadata": {
    "scrolled": true
   },
   "outputs": [],
   "source": [
    "# !pip install transformers deepspeed-mii --upgrade"
   ]
  },
  {
   "cell_type": "code",
   "execution_count": 6,
   "id": "70754092",
   "metadata": {},
   "outputs": [],
   "source": [
    "import nest_asyncio\n",
    "import mii\n",
    "import time\n",
    "from transformers import pipeline, AutoTokenizer\n",
    "\n",
    "# otherwise we get an error message, see https://github.com/microsoft/DeepSpeed-MII/issues/100\n",
    "nest_asyncio.apply()"
   ]
  },
  {
   "cell_type": "code",
   "execution_count": 3,
   "id": "9c880384",
   "metadata": {
    "scrolled": true
   },
   "outputs": [
    {
     "name": "stdout",
     "output_type": "stream",
     "text": [
      "[2022-11-17 08:18:31,188] [INFO] [deployment.py:87:deploy] ************* MII is using DeepSpeed Optimizations to accelerate your model *************\n",
      "[2022-11-17 08:18:31,373] [INFO] [server_client.py:219:_initialize_service] MII using multi-gpu deepspeed launcher:\n",
      " ------------------------------------------------------------\n",
      " task-name .................... text-generation \n",
      " model ........................ bigscience/bloom-560m \n",
      " model-path ................... /tmp/mii_models \n",
      " port ......................... 50050 \n",
      " provider ..................... hugging-face \n",
      " ------------------------------------------------------------\n",
      "[2022-11-17 08:18:32,582] [WARNING] [runner.py:179:fetch_hostfile] Unable to find hostfile, will proceed with training with local resources only.\n",
      "[2022-11-17 08:18:32,627] [INFO] [runner.py:508:main] cmd = /home/ec2-user/anaconda3/envs/pytorch_p38/bin/python -u -m deepspeed.launcher.launch --world_info=eyJsb2NhbGhvc3QiOiBbMF19 --master_addr=127.0.0.1 --master_port=29500 --no_python --no_local_rank /home/ec2-user/anaconda3/envs/pytorch_p38/bin/python -m mii.launch.multi_gpu_server --task-name text-generation --model bigscience/bloom-560m --model-path /tmp/mii_models --port 50050 --ds-optimize --provider hugging-face --config eyJ0ZW5zb3JfcGFyYWxsZWwiOiAxLCAicG9ydF9udW1iZXIiOiA1MDA1MCwgImR0eXBlIjogImZwMTYiLCAiZW5hYmxlX2N1ZGFfZ3JhcGgiOiBmYWxzZSwgImNoZWNrcG9pbnRfZGljdCI6IG51bGwsICJkZXBsb3lfcmFuayI6IFswXSwgInRvcmNoX2Rpc3RfcG9ydCI6IDI5NTAwLCAiaGZfYXV0aF90b2tlbiI6IG51bGwsICJyZXBsYWNlX3dpdGhfa2VybmVsX2luamVjdCI6IHRydWUsICJwcm9maWxlX21vZGVsX3RpbWUiOiBmYWxzZSwgInNraXBfbW9kZWxfY2hlY2siOiBmYWxzZX0=\n",
      "[2022-11-17 08:18:33,819] [INFO] [launch.py:142:main] WORLD INFO DICT: {'localhost': [0]}\n",
      "[2022-11-17 08:18:33,819] [INFO] [launch.py:148:main] nnodes=1, num_local_procs=1, node_rank=0\n",
      "[2022-11-17 08:18:33,819] [INFO] [launch.py:161:main] global_rank_mapping=defaultdict(<class 'list'>, {'localhost': [0]})\n",
      "[2022-11-17 08:18:33,819] [INFO] [launch.py:162:main] dist_world_size=1\n",
      "[2022-11-17 08:18:33,819] [INFO] [launch.py:164:main] Setting CUDA_VISIBLE_DEVICES=0\n",
      "[2022-11-17 08:18:36,394] [INFO] [server_client.py:117:_wait_until_server_is_live] waiting for server to start...\n",
      "[2022-11-17 08:18:41,398] [INFO] [server_client.py:117:_wait_until_server_is_live] waiting for server to start...\n",
      "[2022-11-17 08:18:46,403] [INFO] [server_client.py:117:_wait_until_server_is_live] waiting for server to start...\n",
      "> --------- MII Settings: ds_optimize=True, replace_with_kernel_inject=True, enable_cuda_graph=False \n",
      "[2022-11-17 08:18:46,616] [INFO] [logging.py:68:log_dist] [Rank -1] DeepSpeed info: version=0.7.5, git-hash=unknown, git-branch=unknown\n",
      "[2022-11-17 08:18:46,616] [INFO] [logging.py:68:log_dist] [Rank -1] quantize_bits = 8 mlp_extra_grouping = False, quantize_groups = 1\n",
      "Using /home/ec2-user/.cache/torch_extensions/py38_cu111 as PyTorch extensions root...\n",
      "Detected CUDA files, patching ldflags\n",
      "Emitting ninja build file /home/ec2-user/.cache/torch_extensions/py38_cu111/transformer_inference/build.ninja...\n",
      "Building extension module transformer_inference...\n",
      "Allowing ninja to set a default number of workers... (overridable by setting the environment variable MAX_JOBS=N)\n",
      "ninja: no work to do.\n",
      "Loading extension module transformer_inference...\n",
      "Time to load transformer_inference op: 0.30431413650512695 seconds\n",
      "[2022-11-17 08:18:47,600] [INFO] [logging.py:68:log_dist] [Rank -1] DeepSpeed-Inference config: {'layer_id': 0, 'hidden_size': 1024, 'intermediate_size': 4096, 'heads': 16, 'num_hidden_layers': -1, 'fp16': True, 'pre_layer_norm': True, 'local_rank': -1, 'stochastic_mode': False, 'epsilon': 1e-05, 'mp_size': 1, 'q_int8': False, 'scale_attention': True, 'triangular_masking': True, 'local_attention': False, 'window_size': 1, 'rotary_dim': -1, 'rotate_half': False, 'rotate_every_two': True, 'return_tuple': True, 'mlp_after_attn': True, 'mlp_act_func_type': <ActivationFuncType.GELU: 1>, 'specialized_mode': False, 'training_mp_size': 1, 'bigscience_bloom': True, 'max_out_tokens': 1024, 'scale_attn_by_inverse_layer_idx': False}\n",
      "[2022-11-17 08:18:51,408] [INFO] [server_client.py:117:_wait_until_server_is_live] waiting for server to start...\n",
      "[2022-11-17 08:18:56,413] [INFO] [server_client.py:117:_wait_until_server_is_live] waiting for server to start...\n",
      "[2022-11-17 08:18:56,414] [INFO] [server_client.py:118:_wait_until_server_is_live] server has started on 50050\n"
     ]
    }
   ],
   "source": [
    "mii_configs = {\"tensor_parallel\": 1, \"dtype\": \"fp16\"}\n",
    "mii.deploy(task=\"text-generation\",\n",
    "           model=\"bigscience/bloom-560m\",\n",
    "           deployment_name=\"bloom560m_deployment\",\n",
    "           mii_config=mii_configs)\n",
    "\n",
    "generator = mii.mii_query_handle(\"bloom560m_deployment\")"
   ]
  },
  {
   "cell_type": "code",
   "execution_count": 4,
   "id": "0bb5823d",
   "metadata": {},
   "outputs": [],
   "source": [
    "generator = mii.mii_query_handle(\"bloom560m_deployment\")"
   ]
  },
  {
   "cell_type": "code",
   "execution_count": 7,
   "id": "f210375a",
   "metadata": {},
   "outputs": [],
   "source": [
    "tokenizer = AutoTokenizer.from_pretrained(\"bigscience/bloom-560m\")\n",
    "start_text = \"Testing BLOOM-560M with DeepSpeed MII\"\n",
    "tokens_start_text = len(tokenizer(start_text, return_tensors=\"pt\").input_ids[0])"
   ]
  },
  {
   "cell_type": "code",
   "execution_count": 8,
   "id": "8d0afd6b",
   "metadata": {},
   "outputs": [
    {
     "name": "stdout",
     "output_type": "stream",
     "text": [
      "------------------------------------------------------\n",
      "Free memory : 10.848145 (GigaBytes)  \n",
      "Total memory: 14.560913 (GigaBytes)  \n",
      "Requested memory: 0.093750 (GigaBytes) \n",
      "Setting maximum total tokens (input + output) to 1024 \n",
      "------------------------------------------------------\n"
     ]
    }
   ],
   "source": [
    "new_tokens = 500\n",
    "\n",
    "t0 = time.time()\n",
    "result = generator.query({\"query\": start_text}, max_new_tokens=new_tokens)\n",
    "t1 = time.time()"
   ]
  },
  {
   "cell_type": "code",
   "execution_count": 9,
   "id": "1148221e",
   "metadata": {},
   "outputs": [
    {
     "data": {
      "text/plain": [
       "response: \"Testing BLOOM-560M with DeepSpeed MII. The BLOOM-560M is a high-performance, low-power, and low-temperature, high-resolution, and high-sensitivity, high-sensitivity, and high-resolution, and high-sensitivity, and high-resolution, and high-sensitivity, and high-resolution, and high-sensitivity, and high-resolution, and high-sensitivity, and high-resolution, and high-sensitivity, and high-resolution, and high-sensitivity, and high-resolution, and high-sensitivity, and high-resolution, and high-sensitivity, and high-resolution, and high-sensitivity, and high-resolution, and high-sensitivity, and high-resolution, and high-sensitivity, and high-resolution, and high-sensitivity, and high-resolution, and high-sensitivity, and high-resolution, and high-sensitivity, and high-resolution, and high-sensitivity, and high-resolution, and high-sensitivity, and high-resolution, and high-sensitivity, and high-resolution, and high-sensitivity, and high-resolution, and high-sensitivity, and high-resolution, and high-sensitivity, and high-resolution, and high-sensitivity, and high-resolution, and high-sensitivity, and high-resolution, and high-sensitivity, and high-resolution, and high-sensitivity, and high-resolution, and high-sensitivity, and high-resolution, and high-sensitivity, and high-resolution, and high-sensitivity, and high-resolution, and high-sensitivity, and high-resolution, and high-sensitivity, and high-resolution, and high-sensitivity, and high-resolution, and high-sensitivity, and high-resolution, and high-sensitivity, and high-resolution, and high-sensitivity, and high-resolution, and high-sensitivity, and high-resolution, and high-sensitivity, and high-resolution, and high-sensitivity, and high-resolution, and high-sensitivity, and high-resolution, and high-sensitivity, and high-resolution, and high-sensitivity, and high-resolution, and high-sensitivity, and high-resolution, and high-sensitivity, and high-resolution, and high-sensitivity, and high-resolution, and high-sensitivity, and high-resolution, and high-sensitivity, and high-resolution, and high-sensitivity, and high-resolution, and high-sensitivity, and high-resolution,\"\n",
       "time_taken: 7.23054647\n",
       "model_time_taken: -1"
      ]
     },
     "execution_count": 9,
     "metadata": {},
     "output_type": "execute_result"
    }
   ],
   "source": [
    "result"
   ]
  },
  {
   "cell_type": "code",
   "execution_count": 10,
   "id": "fbf1037e",
   "metadata": {},
   "outputs": [
    {
     "data": {
      "text/plain": [
       "modelresponse_pb2.MultiStringReply"
      ]
     },
     "execution_count": 10,
     "metadata": {},
     "output_type": "execute_result"
    }
   ],
   "source": [
    "type(result)"
   ]
  },
  {
   "cell_type": "code",
   "execution_count": 11,
   "id": "135f1e4a",
   "metadata": {},
   "outputs": [],
   "source": [
    "import re\n",
    "\n",
    "text=str(result)\n",
    "pattern='(\")(.*)(\")'\n",
    "\n",
    "g=re.search(pattern,text)\n",
    "gen_text = g.group(2)"
   ]
  },
  {
   "cell_type": "code",
   "execution_count": 12,
   "id": "df3b9f9e",
   "metadata": {},
   "outputs": [],
   "source": [
    "tokens_gen_text = len(tokenizer(gen_text, return_tensors=\"pt\").input_ids[0])\n",
    "total_new_tokens_generated = tokens_gen_text - tokens_start_text\n",
    "throughput = (total_new_tokens_generated) / (t1 - t0)"
   ]
  },
  {
   "cell_type": "code",
   "execution_count": 13,
   "id": "7c3a54f4",
   "metadata": {},
   "outputs": [
    {
     "name": "stdout",
     "output_type": "stream",
     "text": [
      "Tokens generated: 500\n",
      "Time: 7.2 seconds\n",
      "Tokens per second: 69.1\n",
      "Latency: 14.5 ms\n"
     ]
    }
   ],
   "source": [
    "print(f\"\"\"Tokens generated: {total_new_tokens_generated}\n",
    "Time: {t1 - t0:.1f} seconds\n",
    "Tokens per second: {throughput:.1f}\n",
    "Latency: {1000 / throughput:.1f} ms\"\"\")"
   ]
  },
  {
   "cell_type": "code",
   "execution_count": null,
   "id": "aab72f4a",
   "metadata": {},
   "outputs": [],
   "source": [
    "mii.terminate(\"bloom-560m-mii\")"
   ]
  },
  {
   "cell_type": "code",
   "execution_count": null,
   "id": "b6eb502e",
   "metadata": {},
   "outputs": [],
   "source": []
  }
 ],
 "metadata": {
  "kernelspec": {
   "display_name": "conda_pytorch_p38",
   "language": "python",
   "name": "conda_pytorch_p38"
  },
  "language_info": {
   "codemirror_mode": {
    "name": "ipython",
    "version": 3
   },
   "file_extension": ".py",
   "mimetype": "text/x-python",
   "name": "python",
   "nbconvert_exporter": "python",
   "pygments_lexer": "ipython3",
   "version": "3.8.12"
  }
 },
 "nbformat": 4,
 "nbformat_minor": 5
}

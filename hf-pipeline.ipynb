{
 "cells": [
  {
   "cell_type": "code",
   "execution_count": 1,
   "id": "74216c08",
   "metadata": {
    "scrolled": true
   },
   "outputs": [],
   "source": [
    "# !pip install transformers deepspeed-mii --upgrade"
   ]
  },
  {
   "cell_type": "code",
   "execution_count": 2,
   "id": "419636bc",
   "metadata": {},
   "outputs": [],
   "source": [
    "# create the model\n",
    "import transformers\n",
    "from transformers import pipeline\n",
    "import torch\n",
    "\n",
    "pipe = pipeline(\"text-generation\", model=\"bigscience/bloom-560m\", device=0, torch_dtype=torch.float16 )"
   ]
  },
  {
   "cell_type": "code",
   "execution_count": 8,
   "id": "997b3e6f",
   "metadata": {},
   "outputs": [
    {
     "data": {
      "text/plain": [
       "torch.float16"
      ]
     },
     "execution_count": 8,
     "metadata": {},
     "output_type": "execute_result"
    }
   ],
   "source": [
    "pipe.model.dtype"
   ]
  },
  {
   "cell_type": "code",
   "execution_count": 4,
   "id": "6e144d9e",
   "metadata": {
    "scrolled": true
   },
   "outputs": [
    {
     "name": "stdout",
     "output_type": "stream",
     "text": [
      "[2022-11-16 19:34:36,055] [INFO] [logging.py:68:log_dist] [Rank -1] DeepSpeed info: version=0.7.5, git-hash=unknown, git-branch=unknown\n",
      "[2022-11-16 19:34:36,056] [INFO] [logging.py:68:log_dist] [Rank -1] quantize_bits = 8 mlp_extra_grouping = False, quantize_groups = 1\n",
      "Using /home/ec2-user/.cache/torch_extensions/py38_cu111 as PyTorch extensions root...\n",
      "Detected CUDA files, patching ldflags\n",
      "Emitting ninja build file /home/ec2-user/.cache/torch_extensions/py38_cu111/transformer_inference/build.ninja...\n",
      "Building extension module transformer_inference...\n",
      "Allowing ninja to set a default number of workers... (overridable by setting the environment variable MAX_JOBS=N)\n",
      "ninja: no work to do.\n",
      "Loading extension module transformer_inference...\n",
      "Time to load transformer_inference op: 0.3223097324371338 seconds\n",
      "[2022-11-16 19:34:37,038] [INFO] [logging.py:68:log_dist] [Rank -1] DeepSpeed-Inference config: {'layer_id': 0, 'hidden_size': 1024, 'intermediate_size': 4096, 'heads': 16, 'num_hidden_layers': -1, 'fp16': True, 'pre_layer_norm': True, 'local_rank': -1, 'stochastic_mode': False, 'epsilon': 1e-05, 'mp_size': 1, 'q_int8': False, 'scale_attention': True, 'triangular_masking': True, 'local_attention': False, 'window_size': 1, 'rotary_dim': -1, 'rotate_half': False, 'rotate_every_two': True, 'return_tuple': True, 'mlp_after_attn': True, 'mlp_act_func_type': <ActivationFuncType.GELU: 1>, 'specialized_mode': False, 'training_mp_size': 1, 'bigscience_bloom': True, 'max_out_tokens': 1024, 'scale_attn_by_inverse_layer_idx': False}\n",
      "Using /home/ec2-user/.cache/torch_extensions/py38_cu111 as PyTorch extensions root...\n",
      "No modifications detected for re-loaded extension module transformer_inference, skipping build step...\n",
      "Loading extension module transformer_inference...\n",
      "Time to load transformer_inference op: 0.049361467361450195 seconds\n",
      "Using /home/ec2-user/.cache/torch_extensions/py38_cu111 as PyTorch extensions root...\n",
      "No modifications detected for re-loaded extension module transformer_inference, skipping build step...\n",
      "Loading extension module transformer_inference...\n",
      "Time to load transformer_inference op: 0.04977273941040039 seconds\n"
     ]
    }
   ],
   "source": [
    "# import torch\n",
    "# pipe.model = deepspeed.init_inference(\n",
    "#     pipe.model,\n",
    "#     mp_size=1,\n",
    "#     dtype=torch.half,\n",
    "#     replace_method='auto',\n",
    "#     replace_with_kernel_inject=True\n",
    "# )"
   ]
  },
  {
   "cell_type": "code",
   "execution_count": 3,
   "id": "89258fb7",
   "metadata": {},
   "outputs": [],
   "source": [
    "from transformers import AutoTokenizer\n",
    "tokenizer = AutoTokenizer.from_pretrained(\"bigscience/bloom-560m\")"
   ]
  },
  {
   "cell_type": "code",
   "execution_count": 9,
   "id": "4dfbf37a",
   "metadata": {},
   "outputs": [
    {
     "data": {
      "text/plain": [
       "11"
      ]
     },
     "execution_count": 9,
     "metadata": {},
     "output_type": "execute_result"
    }
   ],
   "source": [
    "start_text = \"Testing BLOOM-3B with DeepSpeed MII\"\n",
    "tokens_start_text = len(tokenizer(start_text, return_tensors=\"pt\").input_ids[0])\n",
    "tokens_start_text"
   ]
  },
  {
   "cell_type": "code",
   "execution_count": 10,
   "id": "da7d9920",
   "metadata": {},
   "outputs": [],
   "source": [
    "import time\n",
    "\n",
    "new_tokens = 500\n",
    "gen_length = new_tokens + tokens_start_text\n",
    "t0 = time.time()\n",
    "result = pipe(start_text, min_length=gen_length, max_length=gen_length)\n",
    "t1 = time.time()"
   ]
  },
  {
   "cell_type": "code",
   "execution_count": 11,
   "id": "9f0c9836",
   "metadata": {},
   "outputs": [
    {
     "data": {
      "text/plain": [
       "[{'generated_text': 'Testing BLOOM-3B with DeepSpeed MII and the results are shown in Fig. 3. The results show that the BLOOM-3B with DeepSpeed MII can achieve a higher accuracy than the BLOOM-3B without DeepSpeed MII. The accuracy of the BLOOM-3B with DeepSpeed MII is higher than that of the BLOOM-3B without DeepSpeed MII. The accuracy of the BLOOM-3B with DeepSpeed MII is higher than that of the BLOOM-3B without DeepSpeed MII. The accuracy of the BLOOM-3B with DeepSpeed MII is higher than that of the BLOOM-3B without DeepSpeed MII. The accuracy of the BLOOM-3B with DeepSpeed MII is higher than that of the BLOOM-3B without DeepSpeed MII. The accuracy of the BLOOM-3B with DeepSpeed MII is higher than that of the BLOOM-3B without DeepSpeed MII. The accuracy of the BLOOM-3B with DeepSpeed MII is higher than that of the BLOOM-3B without DeepSpeed MII. The accuracy of the BLOOM-3B with DeepSpeed MII is higher than that of the BLOOM-3B without DeepSpeed MII. The accuracy of the BLOOM-3B with DeepSpeed MII is higher than that of the BLOOM-3B without DeepSpeed MII. The accuracy of the BLOOM-3B with DeepSpeed MII is higher than that of the BLOOM-3B without DeepSpeed MII. The accuracy of the BLOOM-3B with DeepSpeed MII is higher than that of the BLOOM-3B without DeepSpeed MII. The accuracy of the BLOOM-3B with DeepSpeed MII is higher than that of the BLOOM-3B without DeepSpeed MII. The accuracy of the BLOOM-3B with DeepSpeed MII is higher than that of the BLOOM-3B without DeepSpeed MII. The accuracy of the BLOOM-3B with DeepSpeed MII is higher than that of the BLOOM-3B without DeepSpeed MII. The accuracy of the BLOOM-3B with DeepSpeed MII is higher than that of the BLOOM-3B without DeepSpeed MII. The accuracy of the BLOOM-3B with DeepSpeed MII is higher than that of the BLOOM'}]"
      ]
     },
     "execution_count": 11,
     "metadata": {},
     "output_type": "execute_result"
    }
   ],
   "source": [
    "result"
   ]
  },
  {
   "cell_type": "code",
   "execution_count": 13,
   "id": "7eeaeab5",
   "metadata": {},
   "outputs": [],
   "source": [
    "gen_text = result[0]['generated_text']\n",
    "tokens_gen_text = len(tokenizer(gen_text, return_tensors=\"pt\").input_ids[0])"
   ]
  },
  {
   "cell_type": "code",
   "execution_count": 15,
   "id": "c4f8a8ab",
   "metadata": {},
   "outputs": [
    {
     "name": "stdout",
     "output_type": "stream",
     "text": [
      "Tokens generated: 500; Time: 9.2 seconds; Tokens per second: 54.3; Latency: 18.4 ms\n"
     ]
    }
   ],
   "source": [
    "total_new_tokens_generated = tokens_gen_text - tokens_start_text\n",
    "throughput = (total_new_tokens_generated) / (t1 - t0)\n",
    "print(f\"Tokens generated: {total_new_tokens_generated}; Time: {t1 - t0:.1f} seconds; Tokens per second: {throughput:.1f}; Latency: {1000 / throughput:.1f} ms\")"
   ]
  },
  {
   "cell_type": "code",
   "execution_count": 14,
   "id": "d61173c6",
   "metadata": {},
   "outputs": [
    {
     "name": "stdout",
     "output_type": "stream",
     "text": [
      "[2022-11-16 19:23:07,242] [INFO] [terminate.py:8:terminate] Terminating server for bloom-560m-mii\n",
      "[2022-11-16 19:23:08,055] [INFO] [launch.py:318:sigkill_handler] Killing subprocess 4589\n",
      "[2022-11-16 19:23:08,056] [ERROR] [launch.py:324:sigkill_handler] ['/home/ec2-user/anaconda3/envs/pytorch_p38/bin/python', '-m', 'mii.launch.multi_gpu_server', '--task-name', 'text-generation', '--model', 'bigscience/bloom-560m', '--model-path', '/tmp/mii_models', '--port', '50050', '--ds-optimize', '--provider', 'hugging-face', '--config', 'eyJ0ZW5zb3JfcGFyYWxsZWwiOiAxLCAicG9ydF9udW1iZXIiOiA1MDA1MCwgImR0eXBlIjogImZwMzIiLCAiZW5hYmxlX2N1ZGFfZ3JhcGgiOiBmYWxzZSwgImNoZWNrcG9pbnRfZGljdCI6IG51bGwsICJkZXBsb3lfcmFuayI6IFswXSwgInRvcmNoX2Rpc3RfcG9ydCI6IDI5NTAwLCAiaGZfYXV0aF90b2tlbiI6IG51bGwsICJyZXBsYWNlX3dpdGhfa2VybmVsX2luamVjdCI6IHRydWUsICJwcm9maWxlX21vZGVsX3RpbWUiOiBmYWxzZSwgInNraXBfbW9kZWxfY2hlY2siOiBmYWxzZX0='] exits with return code = -15\n"
     ]
    }
   ],
   "source": [
    "mii.terminate(\"bloom-560m-mii\")"
   ]
  },
  {
   "cell_type": "code",
   "execution_count": null,
   "id": "c2ba1586",
   "metadata": {},
   "outputs": [],
   "source": []
  }
 ],
 "metadata": {
  "kernelspec": {
   "display_name": "conda_pytorch_p38",
   "language": "python",
   "name": "conda_pytorch_p38"
  },
  "language_info": {
   "codemirror_mode": {
    "name": "ipython",
    "version": 3
   },
   "file_extension": ".py",
   "mimetype": "text/x-python",
   "name": "python",
   "nbconvert_exporter": "python",
   "pygments_lexer": "ipython3",
   "version": "3.8.12"
  }
 },
 "nbformat": 4,
 "nbformat_minor": 5
}
